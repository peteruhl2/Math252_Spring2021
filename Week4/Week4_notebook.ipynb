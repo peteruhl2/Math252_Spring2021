{
 "cells": [
  {
   "cell_type": "code",
   "execution_count": 56,
   "metadata": {},
   "outputs": [],
   "source": [
    "import matplotlib.pyplot as plt\n",
    "import numpy as np\n",
    "from mpl_toolkits.mplot3d import Axes3D # for 3d stuff\n",
    "%matplotlib qt"
   ]
  },
  {
   "cell_type": "code",
   "execution_count": 11,
   "metadata": {},
   "outputs": [],
   "source": [
    "# position function\n",
    "def r(t):\n",
    "    return [t, 3*np.sin(t), 3*np.cos(t)]\n",
    "\n",
    "# unit tangent function\n",
    "def T(t):\n",
    "    return [1, 3*np.cos(t), -3*np.sin(t)]/np.sqrt(10)\n",
    "\n",
    "# unit normal funciton\n",
    "def N(t):\n",
    "    return[0, -np.sin(t), -np.cos(t)]"
   ]
  },
  {
   "cell_type": "code",
   "execution_count": 65,
   "metadata": {},
   "outputs": [
    {
     "data": {
      "text/plain": [
       "<mpl_toolkits.mplot3d.art3d.Line3DCollection at 0x13e09c77a60>"
      ]
     },
     "execution_count": 65,
     "metadata": {},
     "output_type": "execute_result"
    }
   ],
   "source": [
    "n = 3\n",
    "t = np.linspace(-n,n,200)\n",
    "\n",
    "fig = plt.figure()\n",
    "ax = fig.gca(projection='3d')\n",
    "\n",
    "# define the vector function\n",
    "x = t\n",
    "y = 3*np.sin(t)\n",
    "z = 3*np.cos(t)\n",
    "\n",
    "ax.plot(x,y,z)\n",
    "ax.set_xlabel('X')\n",
    "ax.set_ylabel('Y')\n",
    "ax.set_zlabel('Z')\n",
    "# ax.scatter(0,3*np.sin(0),3*np.cos(0))\n",
    "\n",
    "# plot some position vectors\n",
    "origin = [0,0,0]\n",
    "ax.scatter(0,0,0)\n",
    "\n",
    "r1 = r(1)\n",
    "rm3 = r(-3)\n",
    "r4 = r(4)\n",
    "\n",
    "X, Y, Z = zip(origin, origin, origin)\n",
    "U, V, W = zip(r1, rm3, r4)\n",
    "\n",
    "r13 = r(-13)\n",
    "X, Y, Z = zip(origin)\n",
    "U, V, W = zip(r13)\n",
    "\n",
    "# ax.quiver(X,Y,Z,U,V,W, arrow_length_ratio=0.2,color = ['b'])\n",
    "\n",
    "# plot unit vectors at certain points\n",
    "# for t = 0\n",
    "r0 = r(0)\n",
    "T0 = T(0)\n",
    "N0 = N(0)\n",
    "\n",
    "# for t = pi/2\n",
    "r_pi2 = r(np.pi/2)\n",
    "T_pi2 = T(np.pi/2)\n",
    "N_pi2 = N(np.pi/2)\n",
    "\n",
    "# for t = pi/4\n",
    "r_pi4 = r(np.pi/4)\n",
    "T_pi4 = T(np.pi/4)\n",
    "N_pi4 = N(np.pi/4)\n",
    "\n",
    "# plot vectors\n",
    "X, Y, Z = zip(r0, r0, r_pi2, r_pi2, r_pi4, r_pi4) \n",
    "U, V, W = zip(T0, N0, T_pi2, N_pi2, T_pi4, N_pi4)\n",
    "ax.quiver(X,Y,Z,U,V,W, arrow_length_ratio=0.2,color = ['r'])"
   ]
  },
  {
   "cell_type": "code",
   "execution_count": 68,
   "metadata": {},
   "outputs": [
    {
     "data": {
      "text/plain": [
       "tuple"
      ]
     },
     "execution_count": 68,
     "metadata": {},
     "output_type": "execute_result"
    }
   ],
   "source": [
    "type(X)"
   ]
  },
  {
   "cell_type": "code",
   "execution_count": null,
   "metadata": {},
   "outputs": [],
   "source": []
  }
 ],
 "metadata": {
  "kernelspec": {
   "display_name": "Python 3",
   "language": "python",
   "name": "python3"
  },
  "language_info": {
   "codemirror_mode": {
    "name": "ipython",
    "version": 3
   },
   "file_extension": ".py",
   "mimetype": "text/x-python",
   "name": "python",
   "nbconvert_exporter": "python",
   "pygments_lexer": "ipython3",
   "version": "3.8.3"
  }
 },
 "nbformat": 4,
 "nbformat_minor": 4
}
